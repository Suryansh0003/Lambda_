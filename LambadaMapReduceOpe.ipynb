{
 "cells": [
  {
   "cell_type": "code",
   "execution_count": 4,
   "id": "06d4cc69-6561-4d58-9af7-c86fed65719d",
   "metadata": {},
   "outputs": [
    {
     "name": "stdout",
     "output_type": "stream",
     "text": [
      "['go', 'rust', 'Python', 'Data - Scinece ', 'machine-learning']\n"
     ]
    }
   ],
   "source": [
    "list=[\"Python\",\"machine-learning\",\"rust\",\"go\",\"Data - Scinece \"]\n",
    "sortedList=sorted(list ,key=lambda x: len(x))\n",
    "print(sortedList)"
   ]
  },
  {
   "cell_type": "code",
   "execution_count": 13,
   "id": "355f524d-0e85-444b-b60e-c128192f6804",
   "metadata": {},
   "outputs": [
    {
     "data": {
      "text/plain": [
       "1"
      ]
     },
     "execution_count": 13,
     "metadata": {},
     "output_type": "execute_result"
    }
   ],
   "source": [
    "fact_num=lambda x : 1 if x==1 else x*fact_num(x-1)\n",
    "fact_num(1)\n"
   ]
  },
  {
   "cell_type": "code",
   "execution_count": 17,
   "id": "3a8fe617-07e9-41b8-883d-ea026982c72a",
   "metadata": {},
   "outputs": [
    {
     "name": "stdout",
     "output_type": "stream",
     "text": [
      "right\n"
     ]
    }
   ],
   "source": [
    "c=\"pw\"\n",
    "if \"pw\" in c :\n",
    "    print(\"right\")\n",
    "else :\n",
    "    print(\"not\")"
   ]
  },
  {
   "cell_type": "code",
   "execution_count": 10,
   "id": "4da1ab04-f9b9-460d-a269-f7614996efa2",
   "metadata": {},
   "outputs": [
    {
     "name": "stdout",
     "output_type": "stream",
     "text": [
      "['HELLO', 'SURYANSH', 'RAHUL']\n"
     ]
    }
   ],
   "source": [
    "num = [\"Hello\",\"suryansh\",\"Rahul\"]\n",
    "a=list(map(lambda x:x.upper(),num))\n",
    "print(a)"
   ]
  },
  {
   "cell_type": "code",
   "execution_count": 34,
   "id": "3ba1cf97-4a45-4ccc-8197-96182a2d0b13",
   "metadata": {},
   "outputs": [
    {
     "name": "stdout",
     "output_type": "stream",
     "text": [
      "SURYANSH\n"
     ]
    }
   ],
   "source": [
    "var1=\"suryansh\"\n",
    "a=''.join(map(lambda x: x.capitalize(),var1))\n",
    "print(a)"
   ]
  },
  {
   "cell_type": "code",
   "execution_count": 38,
   "id": "4ec6771c-6be2-430e-b254-d757fafc61f8",
   "metadata": {},
   "outputs": [],
   "source": [
    "var3=[\"hello\",\"brother\"]"
   ]
  },
  {
   "cell_type": "code",
   "execution_count": 39,
   "id": "358772e1-d582-4b15-b775-59e0a5efba2a",
   "metadata": {},
   "outputs": [
    {
     "data": {
      "text/plain": [
       "['Hello', 'Brother']"
      ]
     },
     "execution_count": 39,
     "metadata": {},
     "output_type": "execute_result"
    }
   ],
   "source": [
    "list(map(str.capitalize,var3))"
   ]
  },
  {
   "cell_type": "code",
   "execution_count": 3,
   "id": "4db291e3-bdc7-4a2d-98f3-7438dd05d351",
   "metadata": {},
   "outputs": [
    {
     "data": {
      "text/plain": [
       "[5, 7]"
      ]
     },
     "execution_count": 3,
     "metadata": {},
     "output_type": "execute_result"
    }
   ],
   "source": [
    "l=[2,5,6,7,8,12]\n",
    "list(filter(lambda x: x%2==0,l))\n"
   ]
  },
  {
   "cell_type": "code",
   "execution_count": 4,
   "id": "5a347cf3-7010-494e-bea2-5d9661e00448",
   "metadata": {},
   "outputs": [
    {
     "data": {
      "text/plain": [
       "[-6, -8, -12]"
      ]
     },
     "execution_count": 4,
     "metadata": {},
     "output_type": "execute_result"
    }
   ],
   "source": [
    "l=[2,5,-6,7,-8,-12]\n",
    "list(filter(lambda x: x<0,l))\n"
   ]
  },
  {
   "cell_type": "code",
   "execution_count": 17,
   "id": "e7880c18-508a-4d24-b977-fbbe2183ef56",
   "metadata": {},
   "outputs": [],
   "source": [
    "from functools import reduce"
   ]
  },
  {
   "cell_type": "code",
   "execution_count": 7,
   "id": "ff4e43a4-1980-4359-a9bd-1f1b71333117",
   "metadata": {},
   "outputs": [
    {
     "data": {
      "text/plain": [
       "[2, 5, 7]"
      ]
     },
     "execution_count": 7,
     "metadata": {},
     "output_type": "execute_result"
    }
   ],
   "source": [
    "l=[2,5,-6,7,-8,-12]\n",
    "list(filter(lambda x: x>=0,l))\n"
   ]
  },
  {
   "cell_type": "code",
   "execution_count": 33,
   "id": "283e1cb5-e41e-4412-bb00-e5f27e6bd578",
   "metadata": {},
   "outputs": [
    {
     "name": "stdout",
     "output_type": "stream",
     "text": [
      "14\n"
     ]
    }
   ],
   "source": [
    "l=[2,4,8,5,7,]\n",
    "evennum=reduce(lambda x,y: x+y,filter(lambda x: x%2==0,l))\n",
    "print(evennum)"
   ]
  },
  {
   "cell_type": "code",
   "execution_count": 38,
   "id": "ae932cc3-48cf-406a-aa17-ef19d016d8d3",
   "metadata": {},
   "outputs": [
    {
     "data": {
      "text/plain": [
       "[2, 4, 6, 8]"
      ]
     },
     "execution_count": 38,
     "metadata": {},
     "output_type": "execute_result"
    }
   ],
   "source": [
    "a=[1,2,3,4]\n",
    "b=[2,2,2,2]\n",
    "list(map(lambda x,y:x*y,a,b))"
   ]
  },
  {
   "cell_type": "code",
   "execution_count": 45,
   "id": "b3978a1b-fbff-470c-9834-4b85a1c4de19",
   "metadata": {},
   "outputs": [
    {
     "name": "stdout",
     "output_type": "stream",
     "text": [
      "18\n"
     ]
    }
   ],
   "source": [
    "a=[1,2,3,4]\n",
    "b=[2,2,2,2]\n",
    "result=(reduce(lambda x,y:x+y ,map(lambda a:a[0]+a[1],zip(a,b))))\n",
    "print(result)"
   ]
  }
 ],
 "metadata": {
  "kernelspec": {
   "display_name": "Python 3 (ipykernel)",
   "language": "python",
   "name": "python3"
  },
  "language_info": {
   "codemirror_mode": {
    "name": "ipython",
    "version": 3
   },
   "file_extension": ".py",
   "mimetype": "text/x-python",
   "name": "python",
   "nbconvert_exporter": "python",
   "pygments_lexer": "ipython3",
   "version": "3.12.2"
  }
 },
 "nbformat": 4,
 "nbformat_minor": 5
}
